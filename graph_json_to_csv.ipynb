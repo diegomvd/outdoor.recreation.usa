{
 "cells": [
  {
   "cell_type": "markdown",
   "metadata": {},
   "source": [
    "Script to tansform JSON format networks in CSV format networks."
   ]
  },
  {
   "cell_type": "code",
   "execution_count": 1,
   "metadata": {},
   "outputs": [
    {
     "name": "stdout",
     "output_type": "stream",
     "text": [
      "        id   latitude   longitude     type\n",
      "0        1  39.022971  -94.714541     city\n",
      "1        2  38.312105  -95.962768  recarea\n",
      "2        3  38.923330  -95.330000  recarea\n",
      "3        4  38.654905  -94.900047  recarea\n",
      "4        5  38.514529  -95.704914  recarea\n",
      "...    ...        ...         ...      ...\n",
      "2799  2800  33.018670  -80.176270     city\n",
      "2800  2801  33.836003  -79.047814     city\n",
      "2801  2802  33.920435  -80.341469     city\n",
      "2802  2803  32.854620  -79.974810     city\n",
      "2803  2804  41.946581 -121.565101  recarea\n",
      "\n",
      "[2804 rows x 4 columns]\n",
      "       source  target   time(s)  distance(km)\n",
      "0           1       2  5445.753       157.395\n",
      "1           1       3  2520.509        69.909\n",
      "2           1       4  2222.561        51.878\n",
      "3           1       5  4433.356       132.925\n",
      "4           1       6  7157.786       217.877\n",
      "...       ...     ...       ...           ...\n",
      "17799    2803     784  2699.928        52.823\n",
      "17800    2803     785  4690.482       109.554\n",
      "17801    2803     786  7528.063       189.519\n",
      "17802    2803     794  6750.204       148.526\n",
      "17803    2803    1009  7711.030       173.603\n",
      "\n",
      "[17804 rows x 4 columns]\n",
      "0.010036870828071441\n"
     ]
    }
   ],
   "source": [
    "import pandas as pd\n",
    "\n",
    "import json\n",
    " \n",
    "# Opening JSON file\n",
    "f = open('./networks/outdoor_recreation_network_USA.json')\n",
    " \n",
    "# returns JSON object as\n",
    "# a dictionary\n",
    "data = json.load(f)\n",
    "# print(data)\n",
    "\n",
    "elements = data.get(\"elements\")\n",
    "\n",
    "nodes = elements.get(\"nodes\")\n",
    "\n",
    "nodes_processed = [{'id': n.get('data').get('id'), 'latitude': n.get('data').get('latitude') , 'longitude': n.get('data').get('longitude'), 'type': n.get('data').get('bipartite')} for n in nodes]\n",
    "nodeDf = pd.DataFrame(nodes_processed)\n",
    "print(nodeDf)\n",
    "\n",
    "edges = elements.get(\"edges\")\n",
    "edges_processed = [ {'source':e.get('data').get('source'), 'target':e.get('data').get('target'),'time(s)':e.get('data').get('time'),'distance(km)':e.get('data').get('distance')} for e in edges ]\n",
    "edgeDf = pd.DataFrame(edges_processed)\n",
    "print(edgeDf)\n",
    "\n",
    "print(17803/(len(edgeDf['source'].unique())*len(edgeDf['target'].unique())))\n",
    "\n",
    "nodeDf.to_csv('./nodes_outdoor_recreation_network_USA.csv',index=False)\n",
    "\n",
    "\n",
    "edgeDf.to_csv('./edges_outdoor_recreation_network_USA.csv',index=False)"
   ]
  }
 ],
 "metadata": {
  "kernelspec": {
   "display_name": "tree.cluster",
   "language": "python",
   "name": "python3"
  },
  "language_info": {
   "codemirror_mode": {
    "name": "ipython",
    "version": 3
   },
   "file_extension": ".py",
   "mimetype": "text/x-python",
   "name": "python",
   "nbconvert_exporter": "python",
   "pygments_lexer": "ipython3",
   "version": "3.12.0"
  }
 },
 "nbformat": 4,
 "nbformat_minor": 2
}
